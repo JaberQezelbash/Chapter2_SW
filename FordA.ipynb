{
 "cells": [
  {
   "cell_type": "markdown",
   "id": "882aab23-14fe-4654-9724-36aeaa2fe65f",
   "metadata": {},
   "source": [
    "## Testing FordA"
   ]
  },
  {
   "cell_type": "code",
   "execution_count": 1,
   "id": "b2e23f84-a2c9-4bc6-972c-3e5e13b2d34f",
   "metadata": {},
   "outputs": [
    {
     "name": "stdout",
     "output_type": "stream",
     "text": [
      "Training Data:\n",
      "       att1      att2      att3      att4      att5      att6      att7  \\\n",
      "0 -0.797172 -0.664392 -0.373015  0.040815  0.526936  0.984288  1.353120   \n",
      "1  0.804855  0.634629  0.373474  0.038343 -0.340988 -0.740860 -1.109667   \n",
      "2  0.727985  0.111284 -0.499124 -1.068629 -1.578351 -1.990534 -2.302031   \n",
      "3 -0.234439 -0.502157 -0.732488 -0.946128 -1.139739 -1.323336 -1.490243   \n",
      "4 -0.171328 -0.062285  0.235829  0.710396  1.239969  1.649823  1.876321   \n",
      "\n",
      "       att8      att9     att10  ...    att492    att493    att494    att495  \\\n",
      "0  1.578108  1.659251  1.640809  ...  0.722417  0.362068  0.092083 -0.081268   \n",
      "1 -1.395357 -1.570192 -1.619951  ...  0.049213 -0.258138 -0.510583 -0.683647   \n",
      "2 -2.503403 -2.585211 -2.550600  ...  0.463685  0.507735  0.517174  0.504588   \n",
      "3 -1.607077 -1.620430 -1.506933  ... -0.929437 -0.922761 -0.929437 -0.909409   \n",
      "4  1.865535  1.703751  1.466467  ...  0.725496  0.697453  0.731967  0.808545   \n",
      "\n",
      "     att496    att497    att498    att499    att500  target  \n",
      "0 -0.212573 -0.391456 -0.664392 -1.073796 -1.564343   b'-1'  \n",
      "1 -0.773817 -0.785255 -0.714885 -0.560443 -0.319086    b'1'  \n",
      "2  0.476270  0.438513  0.394463  0.339400  0.255391   b'-1'  \n",
      "3 -0.835970 -0.695768 -0.478790 -0.188707  0.119736   b'-1'  \n",
      "4  0.839823  0.733046  0.437520 -0.026585 -0.602213   b'-1'  \n",
      "\n",
      "[5 rows x 501 columns]\n",
      "\n",
      "Testing Data:\n",
      "       att1      att2      att3      att4      att5      att6      att7  \\\n",
      "0 -0.140402  0.171641  0.302044  0.232804  0.033853 -0.224183 -0.469987   \n",
      "1  0.334038  0.322253  0.453844  0.671852  0.887897  1.020469  1.059750   \n",
      "2  0.716686  0.744367  0.725913  0.661325  0.555217  0.413585  0.246580   \n",
      "3  1.240282  1.331189  1.386596  1.383220  1.305979  1.142784  0.878613   \n",
      "4 -1.159478 -1.204174 -1.167605 -1.033518 -0.818166 -0.558119 -0.299291   \n",
      "\n",
      "       att8      att9     att10  ...    att492    att493    att494    att495  \\\n",
      "0 -0.645396 -0.617700 -0.367280  ...  0.390903  0.974831  1.258717  1.143316   \n",
      "1  1.030290  0.950746  0.858436  ... -0.346502 -0.924912 -1.208716 -1.247996   \n",
      "2  0.065273 -0.121109 -0.301032  ...  2.276019  1.219548  0.081881 -1.050250   \n",
      "3  0.532291  0.140025 -0.258262  ... -1.124551 -1.302012 -1.340564 -1.271440   \n",
      "4 -0.093691  0.022770  0.044337  ...  0.441438  0.206176 -0.006941 -0.146919   \n",
      "\n",
      "     att496    att497    att498    att499    att500  target  \n",
      "0  0.647092 -0.049582 -0.690402 -0.976596 -0.794263   b'-1'  \n",
      "1 -1.139974 -1.041772 -1.041772 -1.159614 -1.375659   b'-1'  \n",
      "2 -2.092881 -2.983269 -3.675281 -4.136622 -4.339612   b'-1'  \n",
      "3 -1.146352 -1.011328 -0.931222 -0.934498 -1.001288    b'1'  \n",
      "4 -0.183082 -0.112382  0.008987  0.131413  0.186266   b'-1'  \n",
      "\n",
      "[5 rows x 501 columns]\n"
     ]
    }
   ],
   "source": [
    "import pandas as pd\n",
    "from scipy.io import arff\n",
    "\n",
    "# Paths to the ARFF files\n",
    "path_train = r\"C:\\Users\\Jaber\\OneDrive - University of Florida\\Educational\\GitHub\\Datasets\\Chapters\\Chapter2\\Datasets\\FordA\\FordA_TRAIN.arff\"\n",
    "path_test = r\"C:\\Users\\Jaber\\OneDrive - University of Florida\\Educational\\GitHub\\Datasets\\Chapters\\Chapter2\\Datasets\\FordA\\FordA_TEST.arff\"\n",
    "\n",
    "# Load the training ARFF file\n",
    "data_train, meta_train = arff.loadarff(path_train)\n",
    "train = pd.DataFrame(data_train)\n",
    "\n",
    "# Load the testing ARFF file\n",
    "data_test, meta_test = arff.loadarff(path_test)\n",
    "test = pd.DataFrame(data_test)\n",
    "\n",
    "# Display the first few rows of the training and testing DataFrames to inspect\n",
    "print(\"Training Data:\")\n",
    "print(train.head())\n",
    "print(\"\\nTesting Data:\")\n",
    "print(test.head())\n"
   ]
  },
  {
   "cell_type": "code",
   "execution_count": null,
   "id": "15c4c722-26fd-4f27-9a41-8528e9bbd09d",
   "metadata": {},
   "outputs": [],
   "source": []
  },
  {
   "cell_type": "code",
   "execution_count": null,
   "id": "ff44e05a-672f-44a6-884e-5ed348faf784",
   "metadata": {},
   "outputs": [],
   "source": [
    "import pandas as pd\n",
    "from scipy.io import arff\n",
    "\n",
    "# Paths to the ARFF files\n",
    "path_train = r\"C:\\Users\\Jaber\\OneDrive - University of Florida\\Educational\\GitHub\\Datasets\\Chapters\\Chapter2\\Datasets\\FordA\\FordA_TRAIN.arff\"\n",
    "path_test = r\"C:\\Users\\Jaber\\OneDrive - University of Florida\\Educational\\GitHub\\Datasets\\Chapters\\Chapter2\\Datasets\\FordA\\FordA_TEST.arff\"\n",
    "\n",
    "# Load the training ARFF file\n",
    "data_train, meta_train = arff.loadarff(path_train)\n",
    "train = pd.DataFrame(data_train)\n",
    "\n",
    "# Load the testing ARFF file\n",
    "data_test, meta_test = arff.loadarff(path_test)\n",
    "test = pd.DataFrame(data_test)\n",
    "\n",
    "# Combine the train and test datasets into one DataFrame named FordA_data\n",
    "FordA_data = pd.concat([train, test], ignore_index=True)\n",
    "\n",
    "# Display the first few rows of the combined DataFrame to inspect\n",
    "print(\"Combined FordA Data:\")\n",
    "print(FordA_data.head())\n"
   ]
  },
  {
   "cell_type": "code",
   "execution_count": null,
   "id": "b0d9d563-834f-41e8-98d0-f191b45b12ad",
   "metadata": {},
   "outputs": [],
   "source": []
  }
 ],
 "metadata": {
  "kernelspec": {
   "display_name": "Python 3 (ipykernel)",
   "language": "python",
   "name": "python3"
  },
  "language_info": {
   "codemirror_mode": {
    "name": "ipython",
    "version": 3
   },
   "file_extension": ".py",
   "mimetype": "text/x-python",
   "name": "python",
   "nbconvert_exporter": "python",
   "pygments_lexer": "ipython3",
   "version": "3.11.7"
  }
 },
 "nbformat": 4,
 "nbformat_minor": 5
}
